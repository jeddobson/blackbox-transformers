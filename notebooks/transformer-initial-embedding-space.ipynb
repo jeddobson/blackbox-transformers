{
 "cells": [
  {
   "cell_type": "code",
   "execution_count": 1,
   "id": "aadee4fb",
   "metadata": {},
   "outputs": [],
   "source": [
    "# Play with the initial embedding matrix, the embedding values of tokens\n",
    "# without inference through the model. These are useful for understanding\n",
    "# the initial embeddings prior to context-sensitive learning and attention.\n",
    "#\n",
    "# This notebook supports the publication of James E. Dobson, \"On Reading and \n",
    "# Interpreting Black Box Deep Neural Networks,\" International Journal\n",
    "# of Digital Humanities (2023). https://doi.org/10.1007/s42803-023-00075-w\n",
    "#\n",
    "# James E. Dobson\n",
    "# Dartmouth College\n",
    "# https://jeddobson.github.io/\n",
    "\n",
    "import torch\n",
    "from transformers import AutoModelForCausalLM, AutoTokenizer\n",
    "from sklearn.metrics.pairwise import cosine_similarity\n",
    "import numpy as np"
   ]
  },
  {
   "cell_type": "code",
   "execution_count": 2,
   "id": "7182befe",
   "metadata": {},
   "outputs": [
    {
     "name": "stderr",
     "output_type": "stream",
     "text": [
      "Loading the tokenizer from the `special_tokens_map.json` and the `added_tokens.json` will be removed in `transformers 5`,  it is kept for forward compatibility, but it is recommended to update your `tokenizer_config.json` by uploading it again. You will see the new `added_tokens_decoder` attribute that will store the relevant information.\n"
     ]
    }
   ],
   "source": [
    "# load GPT2\n",
    "model = AutoModelForCausalLM.from_pretrained(\"gpt2\",\n",
    "                                             output_hidden_states=True,\n",
    "                                             low_cpu_mem_usage=True)\n",
    "tok = AutoTokenizer.from_pretrained(\"gpt2\")\n",
    "\n",
    "# end of sentence/text token padding\n",
    "tok.pad_token = tok.eos_token"
   ]
  },
  {
   "cell_type": "code",
   "execution_count": 3,
   "id": "c9adce98",
   "metadata": {},
   "outputs": [],
   "source": [
    "def describe_model():\n",
    "    config = model.config.__dict__\n",
    "    print(\"Model type: {0} ({1})\".format(config['model_type'],\n",
    "                                         ' '.join(config['architectures'])))\n",
    "    print(\"Vocab size: {0}\".format(config['vocab_size']))\n",
    "    print(\"Layers: {0}\".format(config['n_layer']))\n",
    "    print(\"Embedding width: {0}\".format(config['n_embd']))\n",
    "    print(\"Parameters:\\n Output Attentions: {0}\\n Output Hidden States: {1}\"\n",
    "          .format(config['output_attentions'],\n",
    "                 config['output_hidden_states']))"
   ]
  },
  {
   "cell_type": "code",
   "execution_count": 4,
   "id": "d49605a2",
   "metadata": {},
   "outputs": [
    {
     "name": "stdout",
     "output_type": "stream",
     "text": [
      "Model type: gpt2 (GPT2LMHeadModel)\n",
      "Vocab size: 50257\n",
      "Layers: 12\n",
      "Embedding width: 768\n",
      "Parameters:\n",
      " Output Attentions: False\n",
      " Output Hidden States: True\n"
     ]
    }
   ],
   "source": [
    "describe_model()"
   ]
  },
  {
   "cell_type": "code",
   "execution_count": 5,
   "id": "58ad490c",
   "metadata": {},
   "outputs": [],
   "source": [
    "# initial embedding matrix\n",
    "# model.transformer.wte.weight or model.lm_head.weight\n",
    "token_embedding_matrix = model.transformer.wte.weight"
   ]
  },
  {
   "cell_type": "code",
   "execution_count": 6,
   "id": "f0fa3a84",
   "metadata": {},
   "outputs": [],
   "source": [
    "# This is a simple strategy to measure semantic similarity (distance)\n",
    "# using cosine similarity from the intitial embedding matrix. Because\n",
    "# we are using the mean embedding, this can also create embeddings for longer\n",
    "# fragments, but there is no attention mechanism used. This means that token\n",
    "# similarity (float, floatation) is the rule.\n",
    "# \n",
    "# We're using inverse similarity, so distance will range from 0 (close)\n",
    "# to 1 (distant).\n",
    "\n",
    "def token_similarity(word1,word2):\n",
    "    embs = []\n",
    "    for word in word1, word2:\n",
    "        inp_tok = tok(word,\n",
    "             padding=True,\n",
    "             return_tensors=\"pt\").to(next(model.parameters()).device)\n",
    "        input_ids = inp_tok[\"input_ids\"]\n",
    "        mean_embedding = torch.mean(token_embedding_matrix[input_ids],dim=1)\n",
    "        embs.append(mean_embedding.detach().numpy())\n",
    "    dist = 1 - cosine_similarity(embs[0],embs[1])[0][0]\n",
    "    return dist"
   ]
  },
  {
   "cell_type": "code",
   "execution_count": 7,
   "id": "cf9ffdc6",
   "metadata": {},
   "outputs": [
    {
     "data": {
      "text/plain": [
       "0.662583202123642"
      ]
     },
     "execution_count": 7,
     "metadata": {},
     "output_type": "execute_result"
    }
   ],
   "source": [
    "token_similarity(\"float\",\"buoyant\")"
   ]
  },
  {
   "cell_type": "code",
   "execution_count": 8,
   "id": "94617305",
   "metadata": {},
   "outputs": [
    {
     "data": {
      "text/plain": [
       "0.5526950657367706"
      ]
     },
     "execution_count": 8,
     "metadata": {},
     "output_type": "execute_result"
    }
   ],
   "source": [
    "token_similarity(\"float\",\"string\")"
   ]
  },
  {
   "cell_type": "code",
   "execution_count": 9,
   "id": "e5349210",
   "metadata": {},
   "outputs": [
    {
     "data": {
      "text/plain": [
       "0.21155625581741333"
      ]
     },
     "execution_count": 9,
     "metadata": {},
     "output_type": "execute_result"
    }
   ],
   "source": [
    "token_similarity(\"float\",\"floatation\")"
   ]
  },
  {
   "cell_type": "code",
   "execution_count": 10,
   "id": "6f91de67",
   "metadata": {},
   "outputs": [
    {
     "data": {
      "text/plain": [
       "0.4116727113723755"
      ]
     },
     "execution_count": 10,
     "metadata": {},
     "output_type": "execute_result"
    }
   ],
   "source": [
    "token_similarity(\"blue\",\"yellow\")"
   ]
  },
  {
   "cell_type": "code",
   "execution_count": 11,
   "id": "5c6e74b3",
   "metadata": {},
   "outputs": [
    {
     "data": {
      "text/plain": [
       "0.19898557662963867"
      ]
     },
     "execution_count": 11,
     "metadata": {},
     "output_type": "execute_result"
    }
   ],
   "source": [
    "token_similarity(\"desire\",\"desired\")"
   ]
  }
 ],
 "metadata": {
  "kernelspec": {
   "display_name": "Python 3 (ipykernel)",
   "language": "python",
   "name": "python3"
  },
  "language_info": {
   "codemirror_mode": {
    "name": "ipython",
    "version": 3
   },
   "file_extension": ".py",
   "mimetype": "text/x-python",
   "name": "python",
   "nbconvert_exporter": "python",
   "pygments_lexer": "ipython3",
   "version": "3.9.15"
  }
 },
 "nbformat": 4,
 "nbformat_minor": 5
}
